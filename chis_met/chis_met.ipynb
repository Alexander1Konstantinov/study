{
 "cells": [
  {
   "cell_type": "code",
   "execution_count": 1,
   "metadata": {},
   "outputs": [],
   "source": [
    "import sympy as sp"
   ]
  },
  {
   "cell_type": "code",
   "execution_count": 34,
   "metadata": {},
   "outputs": [],
   "source": [
    "x = sp.Symbol('x')\n",
    "func=3**(4*x/5)\n"
   ]
  },
  {
   "cell_type": "markdown",
   "metadata": {},
   "source": [
    "# Задание 1"
   ]
  },
  {
   "cell_type": "markdown",
   "metadata": {},
   "source": [
    "### 1)"
   ]
  },
  {
   "cell_type": "code",
   "execution_count": 6,
   "metadata": {},
   "outputs": [
    {
     "name": "stdout",
     "output_type": "stream",
     "text": [
      "Узловые точки: [0.0, 0.5, 1.0, 1.5, 2.0]\n"
     ]
    }
   ],
   "source": [
    "a = 0\n",
    "b = 2\n",
    "x_k=[a+k*(b-a)/4 for k in range(5)]\n",
    "print(f'Узловые точки: {x_k}')"
   ]
  },
  {
   "cell_type": "code",
   "execution_count": 14,
   "metadata": {},
   "outputs": [
    {
     "data": {
      "text/plain": [
       "sympy.core.add.Add"
      ]
     },
     "execution_count": 14,
     "metadata": {},
     "output_type": "execute_result"
    }
   ],
   "source": [
    "def fund_polynom(x_k:list, k:int) -> sp.Function:\n",
    "    \"\"\"Функция для нахождения фундаментального полинома\n",
    "\n",
    "    Args:\n",
    "        x_k (list): Узловые точки\n",
    "        k (_type_): Индекс фундаментального полинома\n",
    "\n",
    "    Returns:\n",
    "        sp.Function: Фундаментальный полином\n",
    "    \"\"\"\n",
    "    fund_poly = 1\n",
    "    for j in range(len(x_k)):\n",
    "        if j!=k:\n",
    "            fund_poly*=(x-x_k[j])/(x_k[k]-x_k[j])\n",
    "    return fund_poly\n",
    "\n",
    "\n",
    "fund_polynom([0, 1], 0)"
   ]
  },
  {
   "cell_type": "code",
   "execution_count": 33,
   "metadata": {},
   "outputs": [
    {
     "name": "stdout",
     "output_type": "stream",
     "text": [
      "Интерполяционный многочлен Лагранжа для функции 3**(4*x/5) и узловых точек[0.0, 0.5, 1.0, 1.5, 2.0]:\n"
     ]
    },
    {
     "data": {
      "text/latex": [
       "$\\displaystyle 0.0618271169545288 x^{4} + 0.0385926288038121 x^{3} + 0.442980677023797 x^{2} + 0.864824262498553 x + 1.0$"
      ],
      "text/plain": [
       "0.0618271169545288*x**4 + 0.0385926288038121*x**3 + 0.442980677023797*x**2 + 0.864824262498553*x + 1.0"
      ]
     },
     "execution_count": 33,
     "metadata": {},
     "output_type": "execute_result"
    }
   ],
   "source": [
    "def interpol_Lagrange_polynom(func: sp.Function, x_k: list) -> sp.Function:\n",
    "    \"\"\"Функция для нахождения интерполяционного многочлена Лагранжа\n",
    "\n",
    "    Args:\n",
    "        func (sp.Function): Функция для интерполирования\n",
    "        x_k (list): Узловые точки\n",
    "\n",
    "    Returns:\n",
    "        sp.Function: Интерполяционного многочлен Лагранжа\n",
    "    \"\"\"\n",
    "    Lagrange_poly = 0\n",
    "    for k in range(len(x_k)):\n",
    "        Lagrange_poly += func.subs(x, x_k[k])*fund_polynom(x_k, k)\n",
    "    return sp.expand(Lagrange_poly)\n",
    "\n",
    "\n",
    "print(f\"Интерполяционный многочлен Лагранжа для функции {func} и узловых точек{x_k}:\")\n",
    "interpol_Lagrange_polynom(func, x_k)\n"
   ]
  }
 ],
 "metadata": {
  "kernelspec": {
   "display_name": "Python 3",
   "language": "python",
   "name": "python3"
  },
  "language_info": {
   "codemirror_mode": {
    "name": "ipython",
    "version": 3
   },
   "file_extension": ".py",
   "mimetype": "text/x-python",
   "name": "python",
   "nbconvert_exporter": "python",
   "pygments_lexer": "ipython3",
   "version": "3.10.11"
  }
 },
 "nbformat": 4,
 "nbformat_minor": 2
}
