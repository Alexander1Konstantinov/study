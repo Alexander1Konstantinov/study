{
 "cells": [
  {
   "cell_type": "code",
   "execution_count": 1,
   "metadata": {},
   "outputs": [],
   "source": [
    "import sympy as sp\n",
    "import numpy as np"
   ]
  },
  {
   "cell_type": "code",
   "execution_count": 317,
   "metadata": {},
   "outputs": [],
   "source": [
    "x=sp.Symbol('x')\n",
    "func1=sp.sqrt(0.4*x**2+1.5)/(2.5+sp.sqrt(2*x+0.8))\n",
    "a1, b1 = 0.8, 2.4\n",
    "func2=sp.cos(x**2+0.8)/(1.5+sp.sin(0.6*x+0.5))\n",
    "a2, b2 = 0.4, 1.2"
   ]
  },
  {
   "cell_type": "code",
   "execution_count": 318,
   "metadata": {},
   "outputs": [],
   "source": [
    "def int_rectangles(func, a, b, n, how='left'):\n",
    "    h=(b-a)/n\n",
    "    s=0\n",
    "    if how=='left':\n",
    "        for x_k in np.arange(a, b, h):\n",
    "            s+=func.subs(x, x_k)\n",
    "    elif how=='right':\n",
    "        for x_k in np.arange(a+h, b+h, h):\n",
    "            s+=func.subs(x, x_k)\n",
    "    elif how=='mid':\n",
    "        for x_k in np.arange(a+h, b+h, h):\n",
    "            s+=func.subs(x, (x_k+x_k-h)/2)\n",
    "    return sp.N(s*h, 10)"
   ]
  },
  {
   "cell_type": "code",
   "execution_count": 319,
   "metadata": {},
   "outputs": [
    {
     "name": "stdout",
     "output_type": "stream",
     "text": [
      "left, func1: 0.5648046910\n",
      "right, func1: 0.6424135173\n"
     ]
    },
    {
     "name": "stdout",
     "output_type": "stream",
     "text": [
      "mid, func1: 0.6354783346\n",
      "\n",
      "left, func2: 0.05035536113\n",
      "right, func2: -0.01595519438\n",
      "mid, func2: 0.007264764935\n"
     ]
    }
   ],
   "source": [
    "print(f'left, func1: {int_rectangles(func1, a1, b1, 10, \"left\")}')\n",
    "print(f'right, func1: {int_rectangles(func1, a1, b1, 10, \"right\")}')\n",
    "print(f'mid, func1: {int_rectangles(func1, a1, b1, 10, \"mid\")}')\n",
    "print()\n",
    "print(f'left, func2: {int_rectangles(func2, a2, b2, 10, \"left\")}')\n",
    "print(f'right, func2: {int_rectangles(func2, a2, b2, 10, \"right\")}')\n",
    "print(f'mid, func2: {int_rectangles(func2, a2, b2, 10, \"mid\")}')"
   ]
  },
  {
   "cell_type": "code",
   "execution_count": 337,
   "metadata": {},
   "outputs": [],
   "source": [
    "def simpson(func, a, b, n):\n",
    "    h=(b-a)/n\n",
    "    s=0\n",
    "    s+=(func.subs(x,a)+func.subs(x,b))/2\n",
    "    for x_k in np.arange(a+h, b+h, h):\n",
    "        s+=2*func.subs(x, (x_k+x_k-h)/2)\n",
    "    for x_k in np.arange(a+h, b, h):\n",
    "        s+=func.subs(x, x_k)\n",
    "    return sp.N(s*h/3, 10)"
   ]
  },
  {
   "cell_type": "code",
   "execution_count": 338,
   "metadata": {},
   "outputs": [
    {
     "name": "stdout",
     "output_type": "stream",
     "text": [
      "Simpson, func1: 0.6352561666\n"
     ]
    }
   ],
   "source": [
    "print(f'Simpson, func1: {simpson(func1, a1, b1, 10)}')"
   ]
  },
  {
   "cell_type": "code",
   "execution_count": 339,
   "metadata": {},
   "outputs": [
    {
     "name": "stdout",
     "output_type": "stream",
     "text": [
      "665280*x**6 - 907200*x**4 + 302400*x**2 - 14400\n",
      "[-0.93246951 -0.66120939  0.93246951  0.66120939 -0.23861919  0.23861919]\n"
     ]
    }
   ],
   "source": [
    "print(sp.simplify(sp.diff((1-x**2)**6, x, 6)))\n",
    "roots_leg=np.roots((665280, 0, -907200, 0, 302400, 0, -14400))\n",
    "print(roots_leg)"
   ]
  },
  {
   "cell_type": "code",
   "execution_count": 322,
   "metadata": {},
   "outputs": [],
   "source": [
    "def transform(a, b, t):\n",
    "    return (a+b)/2 +(b-a)/2*t\n",
    "\n",
    "    \n",
    "def int_gauss(func, a, b, roots_leg):\n",
    "    A1, A2, A3, A4, A5, A6=sp.symbols('A1 A2 A3 A4 A5 A6')\n",
    "    x1, x2, x3, x4, x5, x6 = roots_leg\n",
    "    x1, x2, x3, x4, x5, x6 = transform(a, b, x1), transform(a, b, x2), transform(a, b, x3), transform(a, b, x4),\\\n",
    "                            transform(a, b, x5), transform(a, b, x6)\n",
    "    eq1=A1 + A2 + A3 + A4 + A5 + A6 - sp.integrate(1, (x, a, b))\n",
    "    eq2=A1*x1 + A2*x2 + A3*x3 + A4*x4 +\\\n",
    "        A5*x5 + A6*x6 - sp.integrate(x, (x, a, b))\n",
    "    eq3=A1*x1**2 + A2*x2**2 + A3*x3**2 + A4*x4**2 +\\\n",
    "        A5*x5**2 + A6*x6**2 - sp.integrate(x**2, (x, a, b))\n",
    "    eq4=A1*x1**3 + A2*x2**3 + A3*x3**3 + A4*x4**3 +\\\n",
    "        A5*x5**3 + A6*x6**3 - sp.integrate(x**3, (x, a, b))\n",
    "    eq5=A1*x1**4 + A2*x2**4 + A3*x3**4 + A4*x4**4 +\\\n",
    "        A5*x5**4 + A6*x6**4 - sp.integrate(x**4, (x, a, b))\n",
    "    eq6=A1*x1**5 + A2*x2**5 + A3*x3**5 + A4*x4**5 +\\\n",
    "        A5*x5**5 + A6*x6**5 - sp.integrate(x**5, (x, a, b))\n",
    "    A1_, A2_, A3_, A4_, A5_, A6_ = list(sp.linsolve([eq1, eq2, eq3, eq4, eq5, eq6], A1, A2, A3, A4, A5, A6))[0]\n",
    "    return sp.N((A1_*func.subs(x,x1)+A2_*func.subs(x,x2)+A3_*func.subs(x,x3)+A4_*func.subs(x,x4)+A5_*func.subs(x,x5)+A6_*func.subs(x,x6)), 10)\n",
    "    "
   ]
  },
  {
   "cell_type": "code",
   "execution_count": 323,
   "metadata": {},
   "outputs": [
    {
     "data": {
      "text/latex": [
       "$\\displaystyle 0.02984197538$"
      ],
      "text/plain": [
       "0.02984197538"
      ]
     },
     "execution_count": 323,
     "metadata": {},
     "output_type": "execute_result"
    }
   ],
   "source": [
    "int_gauss(func2, a2, b2, roots_leg)"
   ]
  },
  {
   "cell_type": "code",
   "execution_count": 324,
   "metadata": {},
   "outputs": [],
   "source": [
    "def fund_polynom(a, b, n, k:int) -> sp.Function:\n",
    "    h=(b-a)/n\n",
    "    x_k=[a + j*h for j in range(n+1)]\n",
    "    fund_poly = 1\n",
    "    for j in range(len(x_k)):\n",
    "        if j!=k:\n",
    "            fund_poly*=(x-x_k[j])/(x_k[k]-x_k[j])\n",
    "    return fund_poly"
   ]
  },
  {
   "cell_type": "code",
   "execution_count": 325,
   "metadata": {},
   "outputs": [
    {
     "data": {
      "text/latex": [
       "$\\displaystyle 0.02984196016$"
      ],
      "text/plain": [
       "0.02984196016"
      ]
     },
     "execution_count": 325,
     "metadata": {},
     "output_type": "execute_result"
    }
   ],
   "source": [
    "def interpol_int(func, a, b, n):\n",
    "    h=(b-a)/n\n",
    "    x_k=[a + k*h for k in range(n+1)]\n",
    "    s=0\n",
    "    for i in range(n+1):\n",
    "       s+=sp.integrate(fund_polynom(a, b, n, i), (x, a, b))*func.subs(x, x_k[i])\n",
    "    return sp.N(s, 10)\n",
    "\n",
    "\n",
    "interpol_int(func2, a2, b2, 10)"
   ]
  },
  {
   "cell_type": "code",
   "execution_count": 344,
   "metadata": {},
   "outputs": [],
   "source": [
    "def int_gauss_cheb(func, a, b):\n",
    "    nodes_cheb=[sp.cos((2*k-1)/12*sp.pi) for k in range(1, 7)]\n",
    "    A1, A2, A3, A4, A5, A6=sp.symbols('A1 A2 A3 A4 A5 A6')\n",
    "    p=1/sp.sqrt(1-x**2)\n",
    "    x1, x2, x3, x4, x5, x6 = nodes_cheb\n",
    "    x1, x2, x3, x4, x5, x6 = transform(a, b, x1), transform(a, b, x2), transform(a, b, x3), transform(a, b, x4),\\\n",
    "                            transform(a, b, x5), transform(a, b, x6)\n",
    "    eq1=A1 + A2 + A3 + A4 + A5 + A6 - sp.integrate(p*1, (x, a, b))\n",
    "    eq2=A1*x1 + A2*x2 + A3*x3 + A4*x4 +\\\n",
    "        A5*x5 + A6*x6 - sp.integrate(p*x, (x, a, b))\n",
    "    eq3=A1*x1**2 + A2*x2**2 + A3*x3**2 + A4*x4**2 +\\\n",
    "        A5*x5**2 + A6*x6**2 - sp.integrate(p*x**2, (x, a, b))\n",
    "    eq4=A1*x1**3 + A2*x2**3 + A3*x3**3 + A4*x4**3 +\\\n",
    "        A5*x5**3 + A6*x6**3 - sp.integrate(p*x**3, (x, a, b))\n",
    "    eq5=A1*x1**4 + A2*x2**4 + A3*x3**4 + A4*x4**4 +\\\n",
    "        A5*x5**4 + A6*x6**4 - sp.integrate(p*x**4, (x, a, b))\n",
    "    eq6=A1*x1**5 + A2*x2**5 + A3*x3**5 + A4*x4**5 +\\\n",
    "        A5*x5**5 + A6*x6**5 - sp.integrate(p*x**5, (x, a, b))\n",
    "    A1_, A2_, A3_, A4_, A5_, A6_ = list(sp.linsolve([eq1, eq2, eq3, eq4, eq5, eq6], A1, A2, A3, A4, A5, A6))[0]\n",
    "    return sp.N((A1_*func.subs(x,x1)+A2_*func.subs(x,x2)+A3_*func.subs(x,x3)+A4_*func.subs(x,x4)+A5_*func.subs(x,x5)+A6_*func.subs(x,x6)), 10)\n",
    "    "
   ]
  },
  {
   "cell_type": "code",
   "execution_count": 345,
   "metadata": {},
   "outputs": [
    {
     "data": {
      "text/latex": [
       "$\\displaystyle 1.330310672$"
      ],
      "text/plain": [
       "1.330310672"
      ]
     },
     "execution_count": 345,
     "metadata": {},
     "output_type": "execute_result"
    }
   ],
   "source": [
    "int_gauss_cheb(func1, -1, 1)"
   ]
  },
  {
   "cell_type": "markdown",
   "metadata": {},
   "source": [
    "### $\\text{Для прямоугольников}: |R_n| <= \\underset{x=\\in [a,b]}{max}|f'(x)|*\\frac{(b-a)^2}{n}, \\quad f \\in C^1[a,b]$\n",
    "### $\\text{Для средних прямоугольников}: |R_n| <= \\underset{x=\\in [a,b]}{max}|f''(x)|*\\frac{(b-a)^3}{24n^2}, \\quad f \\in C^2[a,b]$\n",
    "### $\\text{Для формулы Симпсона}: |R_n| <= \\underset{x=\\in [a,b]}{max}|f'''(x)|*\\frac{(b-a)^4}{192n^3}, \\quad f \\in C^3[a,b]$\n",
    "### $\\text{Для квадратурной формулы Гаусса}: |R_n| <= \\frac{\\underset{x=\\in [a,b]}{max}|f^{(2n)}(x)|}{(2n)!}\\int_a^b \\rho(x)w_n^2(x) dx, \\quad f \\in C^{2n}[a,b]$\n",
    "#### $\\text{Для интерполяционной квадратурной формулы}: |R_n| <= \\frac{\\underset{x=\\in [a,b]}{max}|f^{(n)}(x)|}{n!}\\int_a^b \\rho(x)|w_n(x)| dx, \\quad f \\in C^n[a,b]$\n"
   ]
  },
  {
   "cell_type": "code",
   "execution_count": 349,
   "metadata": {},
   "outputs": [
    {
     "name": "stdout",
     "output_type": "stream",
     "text": [
      "Оценка для формул прямоугольников для первой функции: 0.016983548994834192\n",
      "Оценка для формул прямоугольников для второй функции: 0.05193494939706865\n",
      "Оценка для формулы средних прямоугольников для первой функции: 0.00014171394954887103\n",
      "Оценка для формулы средних прямоугольников для второй функции: 0.00018651332325143725\n",
      "Оценка для формулы Симпсона: 3.420428415141387e-06\n",
      "Оценка для квадратурной формулы Гаусса: 1.72770311347738E-11\n",
      "Оценка для интерполяционной квадратурной формулы: 1.24344168033832E-15\n",
      "Оценка для интерполяционной квадратурной формулы с p=1/sqrt(1-x**2): 4.68035303824930E-11\n"
     ]
    }
   ],
   "source": [
    "from scipy.optimize import minimize\n",
    "from scipy.optimize import Bounds\n",
    "\n",
    "def error_rate_rect(func, a, b, n):\n",
    "    func_diff=func.diff()\n",
    "    func_maximum=-minimize(sp.lambdify(x, -sp.Abs(func_diff)), a, bounds=Bounds(a,b))['fun']\n",
    "    return func_maximum*(b-a)**2/n\n",
    "\n",
    "def error_rate_rect_mid(func, a, b, n):\n",
    "    func_diff_2=func.diff(x, 2)\n",
    "    func_maximum=-minimize(sp.lambdify(x, -sp.Abs(func_diff_2)), a, bounds=Bounds(a,b))['fun']\n",
    "    return func_maximum*(b-a)**3/(24*n**2)\n",
    "\n",
    "def error_rate_simpson(func, a, b, n):\n",
    "    func_diff_3=func.diff(x, 3)\n",
    "    func_maximum=-minimize(sp.lambdify(x, -sp.Abs(func_diff_3)), a, bounds=Bounds(a,b))['fun']\n",
    "    return np.abs(func_maximum)*(b-a)**4/(192*n**3)\n",
    "\n",
    "def error_rate_gauss(func, a, b, n, is_p_cheb=False):\n",
    "    func_diff_2n=func1.diff(x, 2*n)\n",
    "    h=(b-a)/n\n",
    "    x_k=[a + k*h for k in range(n+1)]\n",
    "    w_n=1\n",
    "    for x_j in x_k:\n",
    "        w_n*=(x-x_j)\n",
    "    # w_n=sp.Abs(w_n)\n",
    "    func_maximum=-minimize(sp.lambdify(x, -sp.Abs(func_diff_2n)), a, bounds=Bounds(a,b))['fun']\n",
    "    if is_p_cheb:\n",
    "        return np.abs(func_maximum*sp.integrate(w_n**2*1/sp.sqrt(1-x**2), (x, a, b))/sp.factorial(2*n))\n",
    "    else:\n",
    "        return np.abs(func_maximum)*sp.integrate(w_n**2, (x, a, b))/sp.factorial(2*n)\n",
    "\n",
    "def error_rate_interpol(func, a, b, n):\n",
    "    func_diff_10=func1.diff(x, n)\n",
    "    h=(b-a)/n\n",
    "    x_k=[a + k*h for k in range(n+1)]\n",
    "    w_n=1\n",
    "    for x_j in x_k:\n",
    "        w_n*=(x-x_j)\n",
    "    func_maximum=-minimize(sp.lambdify(x, -sp.Abs(func_diff_10)), a, bounds=Bounds(a,b))['fun']\n",
    "    return np.abs(func_maximum*sp.integrate(w_n, (x, a, b))/sp.factorial(n))\n",
    "\n",
    "print(f'Оценка для формул прямоугольников для первой функции: {error_rate_rect(func1, a1, b1, 10)}')\n",
    "print(f'Оценка для формул прямоугольников для второй функции: {error_rate_rect(func2, a2, b2, 10)}')\n",
    "print(f'Оценка для формулы средних прямоугольников для первой функции: {error_rate_rect_mid(func1, a1, b1, 10)}')\n",
    "print(f'Оценка для формулы средних прямоугольников для второй функции: {error_rate_rect_mid(func2, a2, b2, 10)}')\n",
    "print(f'Оценка для формулы Симпсона: {error_rate_simpson(func1, a1, b1, 10)}')\n",
    "print(f'Оценка для квадратурной формулы Гаусса: {error_rate_gauss(func2, a2, b2, 6)}')\n",
    "print(f'Оценка для интерполяционной квадратурной формулы: {error_rate_interpol(func2, a2, b2, 10)}')\n",
    "print(f'Оценка для интерполяционной квадратурной формулы с p=1/sqrt(1-x**2): {error_rate_gauss(func1, -1, 1, 6, True)}')\n"
   ]
  },
  {
   "cell_type": "code",
   "execution_count": null,
   "metadata": {},
   "outputs": [],
   "source": []
  }
 ],
 "metadata": {
  "kernelspec": {
   "display_name": "Python 3",
   "language": "python",
   "name": "python3"
  },
  "language_info": {
   "codemirror_mode": {
    "name": "ipython",
    "version": 3
   },
   "file_extension": ".py",
   "mimetype": "text/x-python",
   "name": "python",
   "nbconvert_exporter": "python",
   "pygments_lexer": "ipython3",
   "version": "3.10.11"
  }
 },
 "nbformat": 4,
 "nbformat_minor": 2
}
