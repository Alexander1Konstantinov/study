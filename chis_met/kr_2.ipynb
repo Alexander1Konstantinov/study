{
 "cells": [
  {
   "cell_type": "code",
   "execution_count": 31,
   "metadata": {},
   "outputs": [],
   "source": [
    "import sympy as sp\n",
    "import numpy as np\n"
   ]
  },
  {
   "cell_type": "code",
   "execution_count": 32,
   "metadata": {},
   "outputs": [],
   "source": [
    "x=sp.Symbol('x')\n",
    "func=3**(4*x/5)"
   ]
  },
  {
   "cell_type": "code",
   "execution_count": 33,
   "metadata": {},
   "outputs": [
    {
     "name": "stdout",
     "output_type": "stream",
     "text": [
      "[0.0, 0.5, 1.0, 1.5, 2.0]\n"
     ]
    }
   ],
   "source": [
    "a=0\n",
    "b=2\n",
    "x_k1=[a+k*(b-a)/4 for k in range(5)]\n",
    "print(x_k1)"
   ]
  },
  {
   "cell_type": "markdown",
   "metadata": {},
   "source": [
    "# Задание 1.\n",
    "## 1) $x_k = a+k* \\frac{b-a}{4}$,  $f(x)=3^{\\frac{4x}{5}}$"
   ]
  },
  {
   "cell_type": "code",
   "execution_count": 34,
   "metadata": {},
   "outputs": [],
   "source": [
    "def newton2p(x_k0,x_k1, func):\n",
    "    return sp.N(sp.simplify(func.subs(x,x_k0)+(func.subs(x, x_k1)-func.subs(x, x_k0))/(x_k1-x_k0)*(x-x_k0)), 5)"
   ]
  },
  {
   "cell_type": "code",
   "execution_count": 35,
   "metadata": {},
   "outputs": [],
   "source": [
    "def spline(x_k, func):\n",
    "    spline_dict=dict()\n",
    "    for i in range(len(x_k)-1):\n",
    "        spline_dict[newton2p(x_k[i], x_k[i+1], func)] = (x_k[i], x_k[i+1])\n",
    "    return spline_dict"
   ]
  },
  {
   "cell_type": "code",
   "execution_count": 36,
   "metadata": {},
   "outputs": [
    {
     "data": {
      "text/plain": [
       "{1.1037*x + 1.0: (0.0, 0.5),\n",
       " 1.7128*x + 0.69547: (0.5, 1.0),\n",
       " 2.6579*x - 0.24971: (1.0, 1.5),\n",
       " 4.1247*x - 2.4499: (1.5, 2.0)}"
      ]
     },
     "execution_count": 36,
     "metadata": {},
     "output_type": "execute_result"
    }
   ],
   "source": [
    "spl1=spline(x_k1, func)\n",
    "spl1"
   ]
  },
  {
   "cell_type": "markdown",
   "metadata": {},
   "source": [
    "### 2) $x_k=\\frac{b-a}{2}*cos{\\frac{(2k-1)\\pi}{10}}+\\frac{b+a}{2}$, $k=\\overline{1,5}$"
   ]
  },
  {
   "cell_type": "code",
   "execution_count": 37,
   "metadata": {},
   "outputs": [
    {
     "data": {
      "text/plain": [
       "[0.048943, 0.41221, 1.0000, 1.5878, 1.9511]"
      ]
     },
     "execution_count": 37,
     "metadata": {},
     "output_type": "execute_result"
    }
   ],
   "source": [
    "x_k2=sorted([sp.N((b-a)/2*sp.cos((2*k-1)*sp.pi/10)+(b+a)/2, 5) for k in range(1,6)])\n",
    "x_k2"
   ]
  },
  {
   "cell_type": "code",
   "execution_count": 38,
   "metadata": {},
   "outputs": [
    {
     "data": {
      "text/plain": [
       "{1.0809*x + 0.99105: (0.048943, 0.41221),\n",
       " 1.653*x + 0.75523: (0.41221, 1.0000),\n",
       " 2.7709*x - 0.36272: (1.0000, 1.5878),\n",
       " 4.1798*x - 2.5997: (1.5878, 1.9511)}"
      ]
     },
     "execution_count": 38,
     "metadata": {},
     "output_type": "execute_result"
    }
   ],
   "source": [
    "spl2=spline(x_k2, func)\n",
    "spl2"
   ]
  },
  {
   "cell_type": "markdown",
   "metadata": {},
   "source": [
    "#### $|f(x)^{(2)}|<M \\rightarrow ||f-s_n^1(x)||<= \\frac{\\delta_n^2}{4}M$\n",
    "#### $\\delta_n = \\underset{k=\\overline{1,n}}{max}|x_k-x_{k+1}|$"
   ]
  },
  {
   "cell_type": "code",
   "execution_count": 39,
   "metadata": {},
   "outputs": [],
   "source": [
    "def rate_error(func, x_k, a, b):\n",
    "    df2=func.diff(x, 2)\n",
    "    interval=sp.Interval(a, b)\n",
    "    M=sp.maximum(df2, x, interval)\n",
    "    differences=[x_k[i+1]-x_k[i] for i in range(len(x_k) -1)]\n",
    "    delta_n=np.max(differences)\n",
    "    return delta_n**2/4*M"
   ]
  },
  {
   "cell_type": "code",
   "execution_count": 40,
   "metadata": {},
   "outputs": [
    {
     "data": {
      "text/latex": [
       "$\\displaystyle 0.2799902472$"
      ],
      "text/plain": [
       "0.2799902472"
      ]
     },
     "execution_count": 40,
     "metadata": {},
     "output_type": "execute_result"
    }
   ],
   "source": [
    "sp.N(rate_error(func, x_k1, a, b), 10)"
   ]
  },
  {
   "cell_type": "code",
   "execution_count": 41,
   "metadata": {},
   "outputs": [
    {
     "data": {
      "text/latex": [
       "$\\displaystyle 0.3869374122$"
      ],
      "text/plain": [
       "0.3869374122"
      ]
     },
     "execution_count": 41,
     "metadata": {},
     "output_type": "execute_result"
    }
   ],
   "source": [
    "sp.N(rate_error(func, x_k2, a, b), 10)"
   ]
  },
  {
   "cell_type": "markdown",
   "metadata": {},
   "source": [
    "# Задание 2"
   ]
  },
  {
   "cell_type": "code",
   "execution_count": 13,
   "metadata": {},
   "outputs": [
    {
     "name": "stdout",
     "output_type": "stream",
     "text": [
      "[0.0, 0.5, 1.0, 1.5, 2.0]\n"
     ]
    }
   ],
   "source": [
    "a=0\n",
    "b=2\n",
    "x_k1=[a+k*(b-a)/4 for k in range(5)]\n",
    "print(x_k1)"
   ]
  },
  {
   "cell_type": "code",
   "execution_count": 14,
   "metadata": {},
   "outputs": [],
   "source": [
    "a1, b1, c1, d1=sp.symbols('a1, b1, c1, d1')\n",
    "a2, b2, c2, d2=sp.symbols('a2, b2, c2, d2')\n",
    "a3, b3, c3, d3=sp.symbols('a3, b3, c3, d3')\n",
    "a4, b4, c4, d4=sp.symbols('a4, b4, c4, d4')"
   ]
  },
  {
   "cell_type": "code",
   "execution_count": 15,
   "metadata": {},
   "outputs": [],
   "source": [
    "def cube_spline(func, x_k):\n",
    "    sp1 = a1+b1*x+c1*x**2+d1*x**3\n",
    "    sp2 = a2+b2*x+c2*x**2+d2*x**3\n",
    "    sp3 = a3+b3*x+c3*x**2+d3*x**3\n",
    "    sp4 = a4+b4*x+c4*x**2+d4*x**3\n",
    "    eqs=[]\n",
    "    #Интерполяция:\n",
    "    y_k=[func.subs(x, x_k[i]) for i in range(len(x_k))]\n",
    "    eqs.append(sp1.subs(x, x_k[0])-y_k[0]) #1\n",
    "    eqs.append(sp1.subs(x, x_k[1])-y_k[1]) #2\n",
    "    eqs.append(sp2.subs(x, x_k[2])-y_k[2]) #3\n",
    "    eqs.append(sp3.subs(x, x_k[3])-y_k[3]) #4\n",
    "    eqs.append(sp4.subs(x, x_k[4])-y_k[4]) #5\n",
    "    #Непрерывность:\n",
    "    eqs.append(sp1.subs(x, x_k[1])-sp2.subs(x, x_k[1])) #6\n",
    "    eqs.append(sp2.subs(x, x_k[2])-sp3.subs(x, x_k[2])) #7\n",
    "    eqs.append(sp3.subs(x, x_k[3])-sp4.subs(x, x_k[3])) #8\n",
    "    #Непрерывность производных:\n",
    "    sp1_diff=sp1.diff(x)\n",
    "    sp2_diff=sp2.diff(x)\n",
    "    sp3_diff=sp3.diff(x)\n",
    "    sp4_diff=sp4.diff(x)\n",
    "    eqs.append(sp1_diff.subs(x, x_k[1])-sp2_diff.subs(x, x_k[1])) #9\n",
    "    eqs.append(sp2_diff.subs(x, x_k[2])-sp3_diff.subs(x, x_k[2])) #10\n",
    "    eqs.append(sp3_diff.subs(x, x_k[3])-sp4_diff.subs(x, x_k[3])) #11\n",
    "    #Непрерывность вторых производных:\n",
    "    sp1_diff_2=sp1_diff.diff(x)\n",
    "    sp2_diff_2=sp2_diff.diff(x)\n",
    "    sp3_diff_2=sp3_diff.diff(x)\n",
    "    sp4_diff_2=sp4_diff.diff(x)\n",
    "    eqs.append(sp1_diff_2.subs(x, x_k[1])-sp2_diff_2.subs(x, x_k[1])) #12\n",
    "    eqs.append(sp2_diff_2.subs(x, x_k[2])-sp3_diff_2.subs(x, x_k[2])) #13\n",
    "    eqs.append(sp3_diff_2.subs(x, x_k[3])-sp4_diff_2.subs(x, x_k[3])) #14\n",
    "    # Условие естественного сплайна:\n",
    "    eqs.append(sp1_diff_2.subs(x, x_k[0])) #15\n",
    "    eqs.append(sp4_diff_2.subs(x, x_k[-1])) #16\n",
    "    a1_,b1_,c1_,d1_,a2_,b2_,c2_,d2_,a3_,b3_,c3_,d3_,a4_,b4_,c4_,d4_ = list(sp.linsolve(eqs, a1,b1,c1,d1,a2,b2,c2,d2,a3,b3,c3,d3,a4,b4,c4,d4))[0]\n",
    "    spline_dict=dict()\n",
    "    spline_dict[sp1.subs([(a1,a1_), (b1,b1_), (c1, c1_), (d1, d1_)])] = (x_k[0], x_k[1])\n",
    "    spline_dict[sp2.subs([(a2,a2_), (b2,b2_), (c2, c2_), (d2, d2_)])] = (x_k[1], x_k[2])\n",
    "    spline_dict[sp3.subs([(a3,a3_), (b3,b3_), (c3, c3_), (d3, d3_)])] = (x_k[2], x_k[3])\n",
    "    spline_dict[sp4.subs([(a4,a4_), (b4,b4_), (c4, c4_), (d4, d4_)])] = (x_k[3], x_k[4])\n",
    "    return spline_dict\n",
    "    "
   ]
  },
  {
   "cell_type": "code",
   "execution_count": 16,
   "metadata": {},
   "outputs": [
    {
     "data": {
      "text/plain": [
       "{0.487290307904333*x**3 + 0.981868570854646*x + 1.0: (0.0, 0.5),\n",
       " -0.000183239921896616*x**3 + 0.731210321739368*x**2 + 0.61626340998496*x + 1.06093419347828: (0.5,\n",
       "  1.0),\n",
       " 0.857886529787714*x**3 - 1.84299898738949*x**2 + 3.19047271911382*x + 0.202864423768676: (1.0,\n",
       "  1.5),\n",
       " -1.34499359777015*x**3 + 8.06996158662089*x**2 - 11.6789681419018*x + 7.63758485427645: (1.5,\n",
       "  2.0)}"
      ]
     },
     "execution_count": 16,
     "metadata": {},
     "output_type": "execute_result"
    }
   ],
   "source": [
    "spl3=cube_spline(func, x_k1)\n",
    "spl3"
   ]
  },
  {
   "cell_type": "markdown",
   "metadata": {},
   "source": [
    "### $g_k(x)=M_{k-1}*\\frac{(x-x_{k-1})^2}{2}+\\frac{M_k-M_{k-1}}{x_k-x_{k-1}}*\\frac{(x-x_{k-1})^3}{6} + g_k^{'}(x_{k-1})(x-x_{k-1})+g_k(x_{k-1})$"
   ]
  },
  {
   "cell_type": "code",
   "execution_count": 17,
   "metadata": {},
   "outputs": [],
   "source": [
    "m0, m1, m2, m3, m4=sp.symbols('m0, m1, m2, m3, m4')\n",
    "g1_diff, g2_diff, g3_diff, g4_diff=sp.symbols('g1_diff, g2_diff, g3_diff, g4_diff')\n",
    "def cube_spline_moments(func, x_k):\n",
    "    y_k=[func.subs(x, x_k[i]) for i in range(len(x_k))]\n",
    "    g1 = (m0*(x-x_k[0])**2)/2+(m1-m0)/(x_k[1]-x_k[0])*((x-x_k[0])**3)/6+g1_diff*(x-x_k[0])+y_k[0]\n",
    "    g2 = (m1*(x-x_k[1])**2)/2+(m2-m1)/(x_k[2]-x_k[1])*((x-x_k[1])**3)/6+g2_diff*(x-x_k[1])+y_k[1]\n",
    "    g3 = (m2*(x-x_k[2])**2)/2+(m3-m2)/(x_k[3]-x_k[2])*((x-x_k[2])**3)/6+g3_diff*(x-x_k[2])+y_k[2]\n",
    "    g4 = (m3*(x-x_k[3])**2)/2+(m4-m3)/(x_k[4]-x_k[3])*((x-x_k[3])**3)/6+g4_diff*(x-x_k[3])+y_k[3]\n",
    "    eqs=[]\n",
    "    # #Интерполяция:\n",
    "    eqs.append(g4.subs(x, x_k[4])-y_k[4]) #1\n",
    "    #Непрерывность:\n",
    "    eqs.append(g1.subs(x, x_k[1])-g2.subs(x, x_k[1])) #2\n",
    "    eqs.append(g2.subs(x, x_k[2])-g3.subs(x, x_k[2])) #3\n",
    "    eqs.append(g3.subs(x, x_k[3])-g4.subs(x, x_k[3])) #4\n",
    "    #Непрерывность производных:\n",
    "    g1_diff_1=g1.diff(x)\n",
    "    g2_diff_1=g2.diff(x)\n",
    "    g3_diff_1=g3.diff(x)\n",
    "    g4_diff_1=g4.diff(x)\n",
    "    eqs.append(g1_diff_1.subs(x, x_k[1])-g2_diff_1.subs(x, x_k[1])) #5\n",
    "    eqs.append(g2_diff_1.subs(x, x_k[2])-g3_diff_1.subs(x, x_k[2])) #6\n",
    "    eqs.append(g3_diff_1.subs(x, x_k[3])-g4_diff_1.subs(x, x_k[3])) #7\n",
    "    #Непрерывность вторых производных:\n",
    "    # Условие естественного сплайна:\n",
    "    g1_diff_2=g1_diff_1.diff(x)\n",
    "    g4_diff_2=g4_diff_1.diff(x)\n",
    "    eqs.append(g1_diff_2.subs(x, x_k[0])) #8\n",
    "    eqs.append(g4_diff_2.subs(x, x_k[-1])) #9\n",
    "    m0_, m1_, m2_, m3_, m4_, g1_diff_, g2_diff_, g3_diff_, g4_diff_  = list(sp.linsolve(eqs, m0, m1, m2, m3, m4, g1_diff, g2_diff, g3_diff, g4_diff))[0]\n",
    "    spline_dict=dict()\n",
    "    spline_dict[sp.expand(g1.subs([(m0,m0_), (m1,m1_), (g1_diff, g1_diff_)]))] = (x_k[0], x_k[1])\n",
    "    spline_dict[sp.expand(g2.subs([(m1,m1_), (m2,m2_), (g2_diff, g2_diff_)]))] = (x_k[1], x_k[2])\n",
    "    spline_dict[sp.expand(g3.subs([(m2,m2_), (m3, m3_), (g3_diff, g3_diff_)]))] = (x_k[2], x_k[3])\n",
    "    spline_dict[sp.expand(g4.subs([(m3,m3_), (m4,m4_), (g4_diff, g4_diff_)]))] = (x_k[3], x_k[4])\n",
    "    return spline_dict\n",
    "    "
   ]
  },
  {
   "cell_type": "code",
   "execution_count": 18,
   "metadata": {},
   "outputs": [
    {
     "data": {
      "text/plain": [
       "{0.6115*x**3 - 0.089787*x**2 + 1.0046*x + 0.99493: (0.048943, 0.41221),\n",
       " 0.054955*x**3 + 0.59846*x**2 + 0.72089*x + 1.0339: (0.41221, 1.0000),\n",
       " 0.69349*x**3 - 1.3171*x**2 + 2.6365*x + 0.39538: (1.0000, 1.5878),\n",
       " -1.8225*x**3 + 10.667*x**2 - 16.392*x + 10.467: (1.5878, 1.9511)}"
      ]
     },
     "execution_count": 18,
     "metadata": {},
     "output_type": "execute_result"
    }
   ],
   "source": [
    "spl4=cube_spline_moments(func,x_k2)\n",
    "spl4"
   ]
  },
  {
   "cell_type": "markdown",
   "metadata": {},
   "source": [
    "# Задание 3"
   ]
  },
  {
   "cell_type": "code",
   "execution_count": 19,
   "metadata": {},
   "outputs": [],
   "source": [
    "x1=0.29\n",
    "x2=1.42\n",
    "x3=1.76"
   ]
  },
  {
   "cell_type": "code",
   "execution_count": 20,
   "metadata": {},
   "outputs": [
    {
     "data": {
      "text/plain": [
       "{1.1037*x + 1.0: (0.0, 0.5),\n",
       " 1.7128*x + 0.69547: (0.5, 1.0),\n",
       " 2.6579*x - 0.24971: (1.0, 1.5),\n",
       " 4.1247*x - 2.4499: (1.5, 2.0)}"
      ]
     },
     "execution_count": 20,
     "metadata": {},
     "output_type": "execute_result"
    }
   ],
   "source": [
    "spls1=list(spl1.keys())\n",
    "spl1"
   ]
  },
  {
   "cell_type": "code",
   "execution_count": 21,
   "metadata": {},
   "outputs": [
    {
     "name": "stdout",
     "output_type": "stream",
     "text": [
      "x:0.29, difference:-0.0297661593850564\n",
      "x:1.42, difference:-0.0411064265992853\n",
      "x:1.76, difference:-0.112988401212569\n"
     ]
    }
   ],
   "source": [
    "print(f'x:{x1}, difference:{func.subs(x, x1)-spls1[0].subs(x, x1)}')\n",
    "print(f'x:{x2}, difference:{func.subs(x, x2)-spls1[2].subs(x, x2)}')\n",
    "print(f'x:{x3}, difference:{func.subs(x, x3)-spls1[3].subs(x, x3)}')"
   ]
  },
  {
   "cell_type": "code",
   "execution_count": 25,
   "metadata": {},
   "outputs": [
    {
     "data": {
      "text/plain": [
       "{1.0809*x + 0.99105: (0.048943, 0.41221),\n",
       " 1.653*x + 0.75523: (0.41221, 1.0000),\n",
       " 2.7709*x - 0.36272: (1.0000, 1.5878),\n",
       " 4.1798*x - 2.5997: (1.5878, 1.9511)}"
      ]
     },
     "execution_count": 25,
     "metadata": {},
     "output_type": "execute_result"
    }
   ],
   "source": [
    "spls2=list(spl2.keys())\n",
    "spl2"
   ]
  },
  {
   "cell_type": "code",
   "execution_count": 26,
   "metadata": {},
   "outputs": [
    {
     "name": "stdout",
     "output_type": "stream",
     "text": [
      "x:0.29, difference:-0.0142101291116190\n",
      "x:1.42, difference:-0.0885722278382990\n",
      "x:1.76, difference:-0.0601453836344437\n"
     ]
    }
   ],
   "source": [
    "print(f'x:{x1}, difference:{func.subs(x, x1)-spls2[0].subs(x, x1)}')\n",
    "print(f'x:{x2}, difference:{func.subs(x, x2)-spls2[2].subs(x, x2)}')\n",
    "print(f'x:{x3}, difference:{func.subs(x, x3)-spls2[3].subs(x, x3)}')"
   ]
  },
  {
   "cell_type": "code",
   "execution_count": 27,
   "metadata": {},
   "outputs": [
    {
     "data": {
      "text/plain": [
       "{0.487290307904333*x**3 + 0.981868570854646*x + 1.0: (0.0, 0.5),\n",
       " -0.000183239921896616*x**3 + 0.731210321739368*x**2 + 0.61626340998496*x + 1.06093419347828: (0.5,\n",
       "  1.0),\n",
       " 0.857886529787714*x**3 - 1.84299898738949*x**2 + 3.19047271911382*x + 0.202864423768676: (1.0,\n",
       "  1.5),\n",
       " -1.34499359777015*x**3 + 8.06996158662089*x**2 - 11.6789681419018*x + 7.63758485427645: (1.5,\n",
       "  2.0)}"
      ]
     },
     "execution_count": 27,
     "metadata": {},
     "output_type": "execute_result"
    }
   ],
   "source": [
    "spls3=list(spl3.keys())\n",
    "spl3"
   ]
  },
  {
   "cell_type": "code",
   "execution_count": 28,
   "metadata": {},
   "outputs": [
    {
     "name": "stdout",
     "output_type": "stream",
     "text": [
      "x:0.29, difference:-0.00632214894085914\n",
      "x:1.42, difference:0.00996258363227653\n",
      "x:1.76, difference:-0.0508760224232274\n"
     ]
    }
   ],
   "source": [
    "print(f'x:{x1}, difference:{func.subs(x, x1)-spls3[0].subs(x, x1)}')\n",
    "print(f'x:{x2}, difference:{func.subs(x, x2)-spls3[2].subs(x, x2)}')\n",
    "print(f'x:{x3}, difference:{func.subs(x, x3)-spls3[3].subs(x, x3)}')"
   ]
  },
  {
   "cell_type": "code",
   "execution_count": 29,
   "metadata": {},
   "outputs": [
    {
     "data": {
      "text/plain": [
       "{0.6115*x**3 - 0.089787*x**2 + 1.0046*x + 0.99493: (0.048943, 0.41221),\n",
       " 0.054955*x**3 + 0.59846*x**2 + 0.72089*x + 1.0339: (0.41221, 1.0000),\n",
       " 0.69349*x**3 - 1.3171*x**2 + 2.6365*x + 0.39538: (1.0000, 1.5878),\n",
       " -1.8225*x**3 + 10.667*x**2 - 16.392*x + 10.467: (1.5878, 1.9511)}"
      ]
     },
     "execution_count": 29,
     "metadata": {},
     "output_type": "execute_result"
    }
   ],
   "source": [
    "spls4=list(spl4.keys())\n",
    "spl4"
   ]
  },
  {
   "cell_type": "code",
   "execution_count": 30,
   "metadata": {},
   "outputs": [
    {
     "name": "stdout",
     "output_type": "stream",
     "text": [
      "x:0.29, difference:-0.00332202029308815\n",
      "x:1.42, difference:0.0144701066343575\n",
      "x:1.76, difference:-0.0268534817789776\n"
     ]
    }
   ],
   "source": [
    "print(f'x:{x1}, difference:{func.subs(x, x1)-spls4[0].subs(x, x1)}')\n",
    "print(f'x:{x2}, difference:{func.subs(x, x2)-spls4[2].subs(x, x2)}')\n",
    "print(f'x:{x3}, difference:{func.subs(x, x3)-spls4[3].subs(x, x3)}')"
   ]
  },
  {
   "cell_type": "code",
   "execution_count": null,
   "metadata": {},
   "outputs": [],
   "source": []
  }
 ],
 "metadata": {
  "kernelspec": {
   "display_name": "Python 3",
   "language": "python",
   "name": "python3"
  },
  "language_info": {
   "codemirror_mode": {
    "name": "ipython",
    "version": 3
   },
   "file_extension": ".py",
   "mimetype": "text/x-python",
   "name": "python",
   "nbconvert_exporter": "python",
   "pygments_lexer": "ipython3",
   "version": "3.10.11"
  }
 },
 "nbformat": 4,
 "nbformat_minor": 2
}
