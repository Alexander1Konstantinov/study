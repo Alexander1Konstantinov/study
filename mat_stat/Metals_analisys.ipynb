{
 "cells": [
  {
   "cell_type": "code",
   "execution_count": 88,
   "metadata": {},
   "outputs": [
    {
     "data": {
      "text/plain": [
       "0     115.0\n",
       "1     115.0\n",
       "2     115.0\n",
       "3     115.5\n",
       "4     116.8\n",
       "      ...  \n",
       "87    126.0\n",
       "88    126.0\n",
       "89    127.0\n",
       "90    127.0\n",
       "91    128.0\n",
       "Name: 0, Length: 92, dtype: float64"
      ]
     },
     "execution_count": 88,
     "metadata": {},
     "output_type": "execute_result"
    }
   ],
   "source": [
    "import pandas as pd\n",
    "import numpy as np\n",
    "data = pd.read_excel(\"data/ZI_16.xlsx\", header=None)[0]\n",
    "data1 = pd.read_excel(\"data/ZI_21.xlsx\", header=None)[0]\n",
    "n = data.shape[0]\n",
    "n1= data1.shape[0]\n",
    "data_sorted = data.sort_values(ascending=True, ignore_index=True)\n",
    "data1_sorted = data1.sort_values(ascending=True, ignore_index=True)\n",
    "data_sorted"
   ]
  },
  {
   "cell_type": "code",
   "execution_count": 89,
   "metadata": {},
   "outputs": [
    {
     "data": {
      "text/plain": [
       "count     92.000000\n",
       "mean     121.214130\n",
       "std        2.839733\n",
       "min      115.000000\n",
       "25%      119.000000\n",
       "50%      121.150000\n",
       "75%      123.050000\n",
       "max      128.000000\n",
       "Name: 0, dtype: float64"
      ]
     },
     "execution_count": 89,
     "metadata": {},
     "output_type": "execute_result"
    }
   ],
   "source": [
    "data.describe()"
   ]
  },
  {
   "cell_type": "markdown",
   "metadata": {},
   "source": [
    "***"
   ]
  },
  {
   "cell_type": "code",
   "execution_count": 90,
   "metadata": {},
   "outputs": [
    {
     "data": {
      "text/plain": [
       "count    112.000000\n",
       "mean     120.879464\n",
       "std        2.500816\n",
       "min      114.000000\n",
       "25%      119.150000\n",
       "50%      121.000000\n",
       "75%      122.925000\n",
       "max      126.000000\n",
       "Name: 0, dtype: float64"
      ]
     },
     "execution_count": 90,
     "metadata": {},
     "output_type": "execute_result"
    }
   ],
   "source": [
    "data1.describe()"
   ]
  },
  {
   "cell_type": "code",
   "execution_count": 91,
   "metadata": {},
   "outputs": [
    {
     "data": {
      "text/plain": [
       "2.500815664878959"
      ]
     },
     "execution_count": 91,
     "metadata": {},
     "output_type": "execute_result"
    }
   ],
   "source": [
    "data1_sorted.std()"
   ]
  },
  {
   "cell_type": "code",
   "execution_count": 92,
   "metadata": {},
   "outputs": [
    {
     "data": {
      "text/plain": [
       "6.254078989703989"
      ]
     },
     "execution_count": 92,
     "metadata": {},
     "output_type": "execute_result"
    }
   ],
   "source": [
    "data1_sorted.std()**2"
   ]
  },
  {
   "cell_type": "code",
   "execution_count": 93,
   "metadata": {},
   "outputs": [
    {
     "data": {
      "text/plain": [
       "0    120.5\n",
       "Name: 0, dtype: float64"
      ]
     },
     "execution_count": 93,
     "metadata": {},
     "output_type": "execute_result"
    }
   ],
   "source": [
    "data1.mode()"
   ]
  },
  {
   "cell_type": "code",
   "execution_count": 94,
   "metadata": {},
   "outputs": [
    {
     "data": {
      "text/plain": [
       "2.8397330598018677"
      ]
     },
     "execution_count": 94,
     "metadata": {},
     "output_type": "execute_result"
    }
   ],
   "source": [
    "data_sorted.std()"
   ]
  },
  {
   "cell_type": "code",
   "execution_count": 95,
   "metadata": {},
   "outputs": [
    {
     "data": {
      "text/plain": [
       "8.064083850931679"
      ]
     },
     "execution_count": 95,
     "metadata": {},
     "output_type": "execute_result"
    }
   ],
   "source": [
    "data_sorted.std()**2 "
   ]
  },
  {
   "cell_type": "code",
   "execution_count": 96,
   "metadata": {},
   "outputs": [
    {
     "data": {
      "text/plain": [
       "8.06408385093167"
      ]
     },
     "execution_count": 96,
     "metadata": {},
     "output_type": "execute_result"
    }
   ],
   "source": [
    "sum((data_sorted - data_sorted.mean())**2)/(n-1) # дисперсия"
   ]
  },
  {
   "cell_type": "code",
   "execution_count": 97,
   "metadata": {},
   "outputs": [],
   "source": [
    "emp_d_func = data_sorted.value_counts(True).sort_index().cumsum()"
   ]
  },
  {
   "cell_type": "code",
   "execution_count": 98,
   "metadata": {},
   "outputs": [
    {
     "data": {
      "text/plain": [
       "121.2"
      ]
     },
     "execution_count": 98,
     "metadata": {},
     "output_type": "execute_result"
    }
   ],
   "source": [
    "emp_d_func[emp_d_func >= 0.5].index[0]  # квартили"
   ]
  },
  {
   "cell_type": "code",
   "execution_count": 99,
   "metadata": {},
   "outputs": [
    {
     "data": {
      "text/plain": [
       "[(115.0, 0.033),\n",
       " (115.5, 0.043),\n",
       " (116.8, 0.054),\n",
       " (117.0, 0.065),\n",
       " (117.2, 0.076),\n",
       " (117.5, 0.098),\n",
       " (117.8, 0.109),\n",
       " (118.0, 0.152),\n",
       " (118.2, 0.163),\n",
       " (118.5, 0.207),\n",
       " (118.7, 0.217),\n",
       " (119.0, 0.261),\n",
       " (119.2, 0.272),\n",
       " (119.3, 0.283),\n",
       " (119.5, 0.293),\n",
       " (120.0, 0.37),\n",
       " (120.4, 0.38),\n",
       " (120.5, 0.413),\n",
       " (121.0, 0.467),\n",
       " (121.1, 0.5),\n",
       " (121.2, 0.511),\n",
       " (121.5, 0.554),\n",
       " (121.7, 0.565),\n",
       " (122.0, 0.63),\n",
       " (122.2, 0.641),\n",
       " (122.3, 0.652),\n",
       " (122.5, 0.685),\n",
       " (122.8, 0.696),\n",
       " (122.9, 0.707),\n",
       " (123.0, 0.75),\n",
       " (123.2, 0.761),\n",
       " (123.3, 0.783),\n",
       " (123.5, 0.815),\n",
       " (123.6, 0.826),\n",
       " (124.0, 0.88),\n",
       " (124.3, 0.891),\n",
       " (125.0, 0.913),\n",
       " (125.5, 0.924),\n",
       " (126.0, 0.967),\n",
       " (127.0, 0.989),\n",
       " (128.0, 1.0)]"
      ]
     },
     "execution_count": 99,
     "metadata": {},
     "output_type": "execute_result"
    }
   ],
   "source": [
    "cum_probs = list() # кумулятивные вероятности\n",
    "for elem in set(data_sorted):\n",
    "    cum_prob = sum((data <= elem))/n\n",
    "    cum_probs.append((elem, round(cum_prob,3)))\n",
    "sorted(cum_probs)"
   ]
  },
  {
   "cell_type": "code",
   "execution_count": 100,
   "metadata": {},
   "outputs": [
    {
     "data": {
      "text/plain": [
       "115.0    0.032609\n",
       "115.5    0.043478\n",
       "116.8    0.054348\n",
       "117.0    0.065217\n",
       "117.2    0.076087\n",
       "117.5    0.097826\n",
       "117.8    0.108696\n",
       "118.0    0.152174\n",
       "118.2    0.163043\n",
       "118.5    0.206522\n",
       "118.7    0.217391\n",
       "119.0    0.260870\n",
       "119.2    0.271739\n",
       "119.3    0.282609\n",
       "119.5    0.293478\n",
       "120.0    0.369565\n",
       "120.4    0.380435\n",
       "120.5    0.413043\n",
       "121.0    0.467391\n",
       "121.1    0.500000\n",
       "121.2    0.510870\n",
       "121.5    0.554348\n",
       "121.7    0.565217\n",
       "122.0    0.630435\n",
       "122.2    0.641304\n",
       "122.3    0.652174\n",
       "122.5    0.684783\n",
       "122.8    0.695652\n",
       "122.9    0.706522\n",
       "123.0    0.750000\n",
       "123.2    0.760870\n",
       "123.3    0.782609\n",
       "123.5    0.815217\n",
       "123.6    0.826087\n",
       "124.0    0.880435\n",
       "124.3    0.891304\n",
       "125.0    0.913043\n",
       "125.5    0.923913\n",
       "126.0    0.967391\n",
       "127.0    0.989130\n",
       "128.0    1.000000\n",
       "Name: 0, dtype: float64"
      ]
     },
     "execution_count": 100,
     "metadata": {},
     "output_type": "execute_result"
    }
   ],
   "source": [
    "emp_d_func "
   ]
  },
  {
   "cell_type": "code",
   "execution_count": 101,
   "metadata": {},
   "outputs": [
    {
     "data": {
      "text/plain": [
       "0    120.0\n",
       "Name: 0, dtype: float64"
      ]
     },
     "execution_count": 101,
     "metadata": {},
     "output_type": "execute_result"
    }
   ],
   "source": [
    "data_sorted.mode()"
   ]
  },
  {
   "cell_type": "code",
   "execution_count": 102,
   "metadata": {},
   "outputs": [
    {
     "data": {
      "text/plain": [
       "120.0    7\n",
       "122.0    6\n",
       "124.0    5\n",
       "121.0    5\n",
       "126.0    4\n",
       "121.5    4\n",
       "118.0    4\n",
       "118.5    4\n",
       "123.0    4\n",
       "119.0    4\n",
       "123.5    3\n",
       "120.5    3\n",
       "115.0    3\n",
       "122.5    3\n",
       "121.1    3\n",
       "123.3    2\n",
       "125.0    2\n",
       "117.5    2\n",
       "127.0    2\n",
       "122.9    1\n",
       "123.6    1\n",
       "123.2    1\n",
       "124.3    1\n",
       "125.5    1\n",
       "122.8    1\n",
       "121.2    1\n",
       "122.3    1\n",
       "122.2    1\n",
       "121.7    1\n",
       "115.5    1\n",
       "120.4    1\n",
       "119.5    1\n",
       "119.3    1\n",
       "119.2    1\n",
       "118.7    1\n",
       "118.2    1\n",
       "117.8    1\n",
       "117.2    1\n",
       "117.0    1\n",
       "116.8    1\n",
       "128.0    1\n",
       "Name: 0, dtype: int64"
      ]
     },
     "execution_count": 102,
     "metadata": {},
     "output_type": "execute_result"
    }
   ],
   "source": [
    "data_sorted.value_counts()"
   ]
  },
  {
   "cell_type": "code",
   "execution_count": 103,
   "metadata": {},
   "outputs": [
    {
     "data": {
      "text/plain": [
       "120.0"
      ]
     },
     "execution_count": 103,
     "metadata": {},
     "output_type": "execute_result"
    }
   ],
   "source": [
    "data_sorted.value_counts(True).index[0] # мода"
   ]
  },
  {
   "cell_type": "code",
   "execution_count": 104,
   "metadata": {},
   "outputs": [
    {
     "name": "stdout",
     "output_type": "stream",
     "text": [
      "-0.012951803119465961\n"
     ]
    },
    {
     "data": {
      "text/plain": [
       "-0.01253252215836902"
      ]
     },
     "execution_count": 104,
     "metadata": {},
     "output_type": "execute_result"
    }
   ],
   "source": [
    "print(data_sorted.skew())\n",
    "sum((data_sorted - data_sorted.mean())**3)/((n)*data_sorted.std()**3)"
   ]
  },
  {
   "cell_type": "code",
   "execution_count": 105,
   "metadata": {},
   "outputs": [
    {
     "name": "stdout",
     "output_type": "stream",
     "text": [
      "-0.21154896255140854\n"
     ]
    },
    {
     "data": {
      "text/plain": [
       "-0.2059162015906172"
      ]
     },
     "execution_count": 105,
     "metadata": {},
     "output_type": "execute_result"
    }
   ],
   "source": [
    "print(data1_sorted.skew())\n",
    "sum((data1_sorted - data1_sorted.mean())**3)/((n1)*data1_sorted.std()**3)"
   ]
  },
  {
   "cell_type": "code",
   "execution_count": 106,
   "metadata": {},
   "outputs": [],
   "source": [
    "x0 = 110.25\n",
    "delta = 1.5"
   ]
  },
  {
   "cell_type": "code",
   "execution_count": 107,
   "metadata": {},
   "outputs": [],
   "source": [
    "x = [x0+2*delta]\n",
    "y1 = [sum(data1_sorted <= x0)]\n",
    "while((x[-1] < data1.max() or amount != 0)):\n",
    "    amount = sum((x[-1] < data1_sorted) & (data1_sorted <= x[-1]+delta))\n",
    "    x.append(x[-1]+delta)\n",
    "    y1.append(amount)\n",
    "y1.append(0)"
   ]
  },
  {
   "cell_type": "code",
   "execution_count": 130,
   "metadata": {},
   "outputs": [],
   "source": [
    "\n",
    "x = [x0+2*delta]\n",
    "y = [sum(data_sorted <= x0)]\n",
    "while((x[-1] < data.max() or amount != 0)):\n",
    "    amount = sum((x[-1] < data_sorted) & (data_sorted <= x[-1]+delta))\n",
    "    x.append(x[-1]+delta)\n",
    "    y.append(amount)"
   ]
  },
  {
   "cell_type": "code",
   "execution_count": 156,
   "metadata": {},
   "outputs": [],
   "source": [
    "bardata=pd.DataFrame({'x':x*2, 'y':y+y1, 'data':['first']*len(x)+['second']*len(x)})"
   ]
  },
  {
   "cell_type": "code",
   "execution_count": 132,
   "metadata": {},
   "outputs": [],
   "source": [
    "# import seaborn as sns\n",
    "# import matplotlib.pyplot as plt\n",
    "# sns.set_style(\"darkgrid\")\n",
    "# ax = sns.barplot(x=x, y=y, width=0.95 )\n",
    "# sns.barplot(x=x, y=y1, width=0.95, alpha=0.7 )\n",
    "# ax.set_xticks(np.arange(0.5,len(x),1))\n",
    "# ax.set_xticklabels(x)\n",
    "# ax.bar_label(ax.containers[0], size=9)\n",
    "# ax.bar_label(ax.containers[1], size=9)\n",
    "# ax.tick_params(bottom=True, labelsize=9, pad=0)\n",
    "# plt.setp(ax.get_xticklabels(), rotation = -30, ha = \"left\")\n",
    "# plt.show()\n",
    "\n"
   ]
  },
  {
   "cell_type": "code",
   "execution_count": 142,
   "metadata": {},
   "outputs": [
    {
     "data": {
      "text/plain": [
       "0      0\n",
       "1      0\n",
       "2      4\n",
       "3      5\n",
       "4     16\n",
       "5     13\n",
       "6     21\n",
       "7     17\n",
       "8      8\n",
       "9      5\n",
       "10     3\n",
       "11     0\n",
       "Name: y, dtype: int64"
      ]
     },
     "execution_count": 142,
     "metadata": {},
     "output_type": "execute_result"
    }
   ],
   "source": [
    "bardata['y'][bardata['data'] == 'first']"
   ]
  },
  {
   "cell_type": "code",
   "execution_count": 162,
   "metadata": {},
   "outputs": [
    {
     "data": {
      "text/html": [
       "<div>\n",
       "<style scoped>\n",
       "    .dataframe tbody tr th:only-of-type {\n",
       "        vertical-align: middle;\n",
       "    }\n",
       "\n",
       "    .dataframe tbody tr th {\n",
       "        vertical-align: top;\n",
       "    }\n",
       "\n",
       "    .dataframe thead th {\n",
       "        text-align: right;\n",
       "    }\n",
       "</style>\n",
       "<table border=\"1\" class=\"dataframe\">\n",
       "  <thead>\n",
       "    <tr style=\"text-align: right;\">\n",
       "      <th></th>\n",
       "      <th>x</th>\n",
       "      <th>y</th>\n",
       "      <th>data</th>\n",
       "    </tr>\n",
       "  </thead>\n",
       "  <tbody>\n",
       "    <tr>\n",
       "      <th>0</th>\n",
       "      <td>113.25</td>\n",
       "      <td>0.0</td>\n",
       "      <td>first</td>\n",
       "    </tr>\n",
       "    <tr>\n",
       "      <th>1</th>\n",
       "      <td>114.75</td>\n",
       "      <td>0.0</td>\n",
       "      <td>first</td>\n",
       "    </tr>\n",
       "    <tr>\n",
       "      <th>2</th>\n",
       "      <td>116.25</td>\n",
       "      <td>4.4</td>\n",
       "      <td>first</td>\n",
       "    </tr>\n",
       "    <tr>\n",
       "      <th>3</th>\n",
       "      <td>117.75</td>\n",
       "      <td>5.4</td>\n",
       "      <td>first</td>\n",
       "    </tr>\n",
       "    <tr>\n",
       "      <th>4</th>\n",
       "      <td>119.25</td>\n",
       "      <td>17.4</td>\n",
       "      <td>first</td>\n",
       "    </tr>\n",
       "    <tr>\n",
       "      <th>5</th>\n",
       "      <td>120.75</td>\n",
       "      <td>14.1</td>\n",
       "      <td>first</td>\n",
       "    </tr>\n",
       "    <tr>\n",
       "      <th>6</th>\n",
       "      <td>122.25</td>\n",
       "      <td>22.8</td>\n",
       "      <td>first</td>\n",
       "    </tr>\n",
       "    <tr>\n",
       "      <th>7</th>\n",
       "      <td>123.75</td>\n",
       "      <td>18.5</td>\n",
       "      <td>first</td>\n",
       "    </tr>\n",
       "    <tr>\n",
       "      <th>8</th>\n",
       "      <td>125.25</td>\n",
       "      <td>8.7</td>\n",
       "      <td>first</td>\n",
       "    </tr>\n",
       "    <tr>\n",
       "      <th>9</th>\n",
       "      <td>126.75</td>\n",
       "      <td>5.4</td>\n",
       "      <td>first</td>\n",
       "    </tr>\n",
       "    <tr>\n",
       "      <th>10</th>\n",
       "      <td>128.25</td>\n",
       "      <td>3.3</td>\n",
       "      <td>first</td>\n",
       "    </tr>\n",
       "    <tr>\n",
       "      <th>11</th>\n",
       "      <td>129.75</td>\n",
       "      <td>0.0</td>\n",
       "      <td>first</td>\n",
       "    </tr>\n",
       "    <tr>\n",
       "      <th>12</th>\n",
       "      <td>113.25</td>\n",
       "      <td>0.0</td>\n",
       "      <td>second</td>\n",
       "    </tr>\n",
       "    <tr>\n",
       "      <th>13</th>\n",
       "      <td>114.75</td>\n",
       "      <td>0.9</td>\n",
       "      <td>second</td>\n",
       "    </tr>\n",
       "    <tr>\n",
       "      <th>14</th>\n",
       "      <td>116.25</td>\n",
       "      <td>1.8</td>\n",
       "      <td>second</td>\n",
       "    </tr>\n",
       "    <tr>\n",
       "      <th>15</th>\n",
       "      <td>117.75</td>\n",
       "      <td>8.9</td>\n",
       "      <td>second</td>\n",
       "    </tr>\n",
       "    <tr>\n",
       "      <th>16</th>\n",
       "      <td>119.25</td>\n",
       "      <td>15.2</td>\n",
       "      <td>second</td>\n",
       "    </tr>\n",
       "    <tr>\n",
       "      <th>17</th>\n",
       "      <td>120.75</td>\n",
       "      <td>19.6</td>\n",
       "      <td>second</td>\n",
       "    </tr>\n",
       "    <tr>\n",
       "      <th>18</th>\n",
       "      <td>122.25</td>\n",
       "      <td>21.4</td>\n",
       "      <td>second</td>\n",
       "    </tr>\n",
       "    <tr>\n",
       "      <th>19</th>\n",
       "      <td>123.75</td>\n",
       "      <td>19.6</td>\n",
       "      <td>second</td>\n",
       "    </tr>\n",
       "    <tr>\n",
       "      <th>20</th>\n",
       "      <td>125.25</td>\n",
       "      <td>8.9</td>\n",
       "      <td>second</td>\n",
       "    </tr>\n",
       "    <tr>\n",
       "      <th>21</th>\n",
       "      <td>126.75</td>\n",
       "      <td>3.6</td>\n",
       "      <td>second</td>\n",
       "    </tr>\n",
       "    <tr>\n",
       "      <th>22</th>\n",
       "      <td>128.25</td>\n",
       "      <td>0.0</td>\n",
       "      <td>second</td>\n",
       "    </tr>\n",
       "    <tr>\n",
       "      <th>23</th>\n",
       "      <td>129.75</td>\n",
       "      <td>0.0</td>\n",
       "      <td>second</td>\n",
       "    </tr>\n",
       "  </tbody>\n",
       "</table>\n",
       "</div>"
      ],
      "text/plain": [
       "         x     y    data\n",
       "0   113.25   0.0   first\n",
       "1   114.75   0.0   first\n",
       "2   116.25   4.4   first\n",
       "3   117.75   5.4   first\n",
       "4   119.25  17.4   first\n",
       "5   120.75  14.1   first\n",
       "6   122.25  22.8   first\n",
       "7   123.75  18.5   first\n",
       "8   125.25   8.7   first\n",
       "9   126.75   5.4   first\n",
       "10  128.25   3.3   first\n",
       "11  129.75   0.0   first\n",
       "12  113.25   0.0  second\n",
       "13  114.75   0.9  second\n",
       "14  116.25   1.8  second\n",
       "15  117.75   8.9  second\n",
       "16  119.25  15.2  second\n",
       "17  120.75  19.6  second\n",
       "18  122.25  21.4  second\n",
       "19  123.75  19.6  second\n",
       "20  125.25   8.9  second\n",
       "21  126.75   3.6  second\n",
       "22  128.25   0.0  second\n",
       "23  129.75   0.0  second"
      ]
     },
     "execution_count": 162,
     "metadata": {},
     "output_type": "execute_result"
    }
   ],
   "source": [
    "summs = bardata.groupby('data').sum()['y']\n",
    "bardata['y'][bardata['data'] == 'first'] = bardata[bardata['data'] == 'first']['y'].apply(lambda x: round(x/summs['first']*100, 1))\n",
    "bardata['y'][bardata['data'] == 'second'] = bardata[bardata['data'] == 'second']['y'].apply(lambda x: round(x/summs['second']*100, 1 ))\n",
    "bardata"
   ]
  },
  {
   "cell_type": "code",
   "execution_count": 163,
   "metadata": {},
   "outputs": [
    {
     "data": {
      "image/png": "[encoded data removed]",
      "text/plain": [
       "<Figure size 864x648 with 1 Axes>"
      ]
     },
     "metadata": {},
     "output_type": "display_data"
    }
   ],
   "source": [
    "import seaborn as sns\n",
    "import matplotlib.pyplot as plt\n",
    "sns.set_style(\"darkgrid\")\n",
    "sns.set_palette(['purple', 'orange'])\n",
    "plt.figure(figsize=(12,9))\n",
    "ax = sns.barplot(data=bardata,x='x', y='y', width=0.95, hue='data')\n",
    "ax.set_xticks(np.arange(0.5,len(x),1))\n",
    "ax.set_xticklabels(x)\n",
    "ax.bar_label(ax.containers[0], size=13)\n",
    "ax.bar_label(ax.containers[1], size=13)\n",
    "ax.tick_params(bottom=True, labelsize=15, pad=0)\n",
    "plt.legend(prop={'size':15})\n",
    "plt.setp(ax.get_xticklabels(), rotation = -30, ha = \"left\")\n",
    "plt.title('Гистограмма распределений (в %) в двух группах', size=15)\n",
    "plt.show()\n"
   ]
  },
  {
   "cell_type": "code",
   "execution_count": 122,
   "metadata": {},
   "outputs": [
    {
     "data": {
      "image/png": "[encoded data removed]",
      "text/plain": [
       "<Figure size 864x648 with 1 Axes>"
      ]
     },
     "metadata": {},
     "output_type": "display_data"
    }
   ],
   "source": [
    "import seaborn as sns\n",
    "import matplotlib.pyplot as plt\n",
    "sns.set_style(\"darkgrid\")\n",
    "sns.set_palette(['purple']*len(x))\n",
    "plt.figure(figsize=(12,9))\n",
    "ax = sns.barplot(x=x, y=y, width=0.95)\n",
    "ax.set_xticks(np.arange(0.5,len(x),1))\n",
    "ax.set_xticklabels(x)\n",
    "ax.bar_label(ax.containers[0])\n",
    "ax.tick_params(bottom=True, labelsize=15, pad=0)\n",
    "plt.setp(ax.get_xticklabels(), rotation = -30, ha = \"left\")\n",
    "plt.title('Гистограмма прочности')\n",
    "plt.show()\n"
   ]
  },
  {
   "cell_type": "code",
   "execution_count": 75,
   "metadata": {},
   "outputs": [
    {
     "data": {
      "image/png": "[encoded data removed]",
      "text/plain": [
       "<Figure size 864x720 with 1 Axes>"
      ]
     },
     "metadata": {},
     "output_type": "display_data"
    }
   ],
   "source": [
    "plt.rcParams['font.family'] = 'Times New Roman'\n",
    "plt.rcParams['font.style'] = 'italic'\n",
    "plt.rcParams['font.size'] = 20\n",
    "sns.displot(data=data_sorted, kind='ecdf', label='ECDF', linewidth=2,\n",
    "            height=10, aspect=1.2).set(xlabel='Variats', ylabel='Probabilty')\n",
    "plt.axvline(data.mean(), linestyle='dashed', color='red', alpha=0.4, label='mean')\n",
    "plt.legend(loc=\"upper left\", prop={\n",
    "               'family': 'Times New Roman', 'weight': 'bold', \"size\": 15, 'stretch': 'normal'})\n",
    "plt.title(\"ЭФР\")\n",
    "plt.show()\n"
   ]
  },
  {
   "cell_type": "code",
   "execution_count": 77,
   "metadata": {},
   "outputs": [
    {
     "data": {
      "image/png": "[encoded data removed]",
      "text/plain": [
       "<Figure size 864x720 with 1 Axes>"
      ]
     },
     "metadata": {},
     "output_type": "display_data"
    }
   ],
   "source": [
    "plt.rcParams['font.family'] = 'Times New Roman'\n",
    "plt.rcParams['font.style'] = 'italic'\n",
    "plt.rcParams['font.size'] = 20\n",
    "sns.displot(data=data1_sorted, kind='ecdf', label='ECDF', linewidth=2,\n",
    "            height=10, aspect=1.2).set(xlabel='Variats', ylabel='Probabilty')\n",
    "plt.axvline(data1.mean(), linestyle='dashed', color='red', alpha=0.4, label='mean')\n",
    "plt.legend(loc=\"upper left\", prop={\n",
    "               'family': 'Times New Roman', 'weight': 'bold', \"size\": 15, 'stretch': 'normal'})\n",
    "plt.title(\"ЭФР\")\n",
    "plt.show()\n"
   ]
  },
  {
   "cell_type": "code",
   "execution_count": 66,
   "metadata": {},
   "outputs": [
    {
     "data": {
      "image/png": "[encoded data removed]",
      "text/plain": [
       "<Figure size 1080x864 with 1 Axes>"
      ]
     },
     "metadata": {},
     "output_type": "display_data"
    }
   ],
   "source": [
    "# plt.figure(figsize=(15,12))\n",
    "# plt.rcParams['font.family'] = 'Times New Roman'\n",
    "# plt.rcParams['font.style'] = 'italic'\n",
    "# plt.rcParams['font.size'] = 12\n",
    "# sns.histplot(data=data_sorted)      \n",
    "# plt.axvline(data.mean(), linestyle='dashed', color='red', alpha=0.4, label='mean')\n",
    "# plt.legend(loc=\"upper left\", prop={\n",
    "#                'family': 'Times New Roman', 'weight': 'bold', \"size\": 12, 'stretch': 'normal'})\n",
    "# plt.show()\n"
   ]
  },
  {
   "cell_type": "code",
   "execution_count": null,
   "metadata": {},
   "outputs": [],
   "source": []
  }
 ],
 "metadata": {
  "kernelspec": {
   "display_name": "Python 3",
   "language": "python",
   "name": "python3"
  },
  "language_info": {
   "codemirror_mode": {
    "name": "ipython",
    "version": 3
   },
   "file_extension": ".py",
   "mimetype": "text/x-python",
   "name": "python",
   "nbconvert_exporter": "python",
   "pygments_lexer": "ipython3",
   "version": "3.10.11"
  }
 },
 "nbformat": 4,
 "nbformat_minor": 2
}
